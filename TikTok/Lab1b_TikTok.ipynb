{
 "cells": [
  {
   "cell_type": "markdown",
   "metadata": {
    "id": "rZuqiqeUo5vd"
   },
   "source": [
    "# TikTok imports"
   ]
  },
  {
   "cell_type": "code",
   "execution_count": 2,
   "metadata": {
    "id": "jX9Vk2x69fzO"
   },
   "outputs": [
    {
     "name": "stdout",
     "output_type": "stream",
     "text": [
      "Collecting requests\n",
      "  Using cached requests-2.32.3-py3-none-any.whl.metadata (4.6 kB)\n",
      "Collecting charset-normalizer<4,>=2 (from requests)\n",
      "  Downloading charset_normalizer-3.4.0-cp311-cp311-win_amd64.whl.metadata (34 kB)\n",
      "Collecting idna<4,>=2.5 (from requests)\n",
      "  Downloading idna-3.10-py3-none-any.whl.metadata (10 kB)\n",
      "Collecting urllib3<3,>=1.21.1 (from requests)\n",
      "  Downloading urllib3-2.2.3-py3-none-any.whl.metadata (6.5 kB)\n",
      "Collecting certifi>=2017.4.17 (from requests)\n",
      "  Downloading certifi-2024.8.30-py3-none-any.whl.metadata (2.2 kB)\n",
      "Using cached requests-2.32.3-py3-none-any.whl (64 kB)\n",
      "Downloading certifi-2024.8.30-py3-none-any.whl (167 kB)\n",
      "Downloading charset_normalizer-3.4.0-cp311-cp311-win_amd64.whl (101 kB)\n",
      "Downloading idna-3.10-py3-none-any.whl (70 kB)\n",
      "Downloading urllib3-2.2.3-py3-none-any.whl (126 kB)\n",
      "Installing collected packages: urllib3, idna, charset-normalizer, certifi, requests\n",
      "Successfully installed certifi-2024.8.30 charset-normalizer-3.4.0 idna-3.10 requests-2.32.3 urllib3-2.2.3\n"
     ]
    },
    {
     "name": "stderr",
     "output_type": "stream",
     "text": [
      "\n",
      "[notice] A new release of pip is available: 24.2 -> 24.3.1\n",
      "[notice] To update, run: python.exe -m pip install --upgrade pip\n"
     ]
    }
   ],
   "source": [
    "import pandas as pd\n",
    "import time\n",
    "from tqdm.auto import tqdm\n",
    "! pip install requests\n",
    "import requests\n",
    "from datetime import datetime"
   ]
  },
  {
   "cell_type": "code",
   "execution_count": 3,
   "metadata": {
    "colab": {
     "base_uri": "https://localhost:8080/"
    },
    "id": "b4mxUt-YFubD",
    "outputId": "4a6018fa-664c-4e1c-f0f2-e23c1728993b"
   },
   "outputs": [
    {
     "name": "stdout",
     "output_type": "stream",
     "text": [
      "Collecting ensembledata\n",
      "  Downloading ensembledata-0.2.3-py3-none-any.whl.metadata (6.1 kB)\n",
      "Collecting httpx (from ensembledata)\n",
      "  Downloading httpx-0.27.2-py3-none-any.whl.metadata (7.1 kB)\n",
      "Collecting anyio (from httpx->ensembledata)\n",
      "  Downloading anyio-4.6.2.post1-py3-none-any.whl.metadata (4.7 kB)\n",
      "Requirement already satisfied: certifi in c:\\users\\sina tavakoli\\appdata\\local\\programs\\python\\python311\\lib\\site-packages (from httpx->ensembledata) (2024.8.30)\n",
      "Collecting httpcore==1.* (from httpx->ensembledata)\n",
      "  Downloading httpcore-1.0.7-py3-none-any.whl.metadata (21 kB)\n",
      "Requirement already satisfied: idna in c:\\users\\sina tavakoli\\appdata\\local\\programs\\python\\python311\\lib\\site-packages (from httpx->ensembledata) (3.10)\n",
      "Collecting sniffio (from httpx->ensembledata)\n",
      "  Downloading sniffio-1.3.1-py3-none-any.whl.metadata (3.9 kB)\n",
      "Collecting h11<0.15,>=0.13 (from httpcore==1.*->httpx->ensembledata)\n",
      "  Downloading h11-0.14.0-py3-none-any.whl.metadata (8.2 kB)\n",
      "Downloading ensembledata-0.2.3-py3-none-any.whl (12 kB)\n",
      "Downloading httpx-0.27.2-py3-none-any.whl (76 kB)\n",
      "Downloading httpcore-1.0.7-py3-none-any.whl (78 kB)\n",
      "Downloading anyio-4.6.2.post1-py3-none-any.whl (90 kB)\n",
      "Downloading sniffio-1.3.1-py3-none-any.whl (10 kB)\n",
      "Downloading h11-0.14.0-py3-none-any.whl (58 kB)\n",
      "Installing collected packages: sniffio, h11, httpcore, anyio, httpx, ensembledata\n",
      "Successfully installed anyio-4.6.2.post1 ensembledata-0.2.3 h11-0.14.0 httpcore-1.0.7 httpx-0.27.2 sniffio-1.3.1\n"
     ]
    },
    {
     "name": "stderr",
     "output_type": "stream",
     "text": [
      "\n",
      "[notice] A new release of pip is available: 24.2 -> 24.3.1\n",
      "[notice] To update, run: python.exe -m pip install --upgrade pip\n"
     ]
    }
   ],
   "source": [
    "!pip install ensembledata\n",
    "from ensembledata.api import EDClient"
   ]
  },
  {
   "cell_type": "code",
   "execution_count": 4,
   "metadata": {
    "id": "W8LB9hnDF6iy"
   },
   "outputs": [],
   "source": [
    "# initialize the ensembledata client\n",
    "client = EDClient(\"2BJVoG42lL9XLjlU\")\n",
    "\n",
    "# get a free token at https://dashboard.ensembledata.com/register\n",
    "# free trial of 50 units per day for 7 days, starting 23/11/24\n",
    "#\n",
    "# costs:\n",
    "#  - 1 unit = 200 posts in full_hashtag_search :)\n",
    "#  - 1 unit = 20 posts in hashtag_search\n",
    "#  - 1 unit = 20 posts in keyword_search or full_keyword_search :(\n",
    "#  - 1 unit = 30 comments to a post\n",
    "#  - 1 unit = 30 replies to a comment\n",
    "#\n",
    "# documentation available at https://ensembledata.com/apis/docs#tag/Tiktok\n",
    "# and https://github.com/EnsembleData/tiktok-scraper\n",
    "# source code available at\n",
    "# https://github.com/EnsembleData/ensembledata-python/tree/main/ensembledata/api"
   ]
  },
  {
   "cell_type": "markdown",
   "metadata": {
    "id": "Xa8nder-pL_v"
   },
   "source": [
    "# Read posts from TikTok"
   ]
  },
  {
   "cell_type": "markdown",
   "metadata": {
    "id": "6bRQouOeM1DL"
   },
   "source": [
    "Hashtag search (200 posts at the cost of 1 unit)"
   ]
  },
  {
   "cell_type": "code",
   "execution_count": 5,
   "metadata": {
    "id": "iz_7RaG38aS1"
   },
   "outputs": [],
   "source": [
    "# read posts related to an hashtag\n",
    "result = client.tiktok.full_hashtag_search(\n",
    "                hashtag = \"rome\", # hashtag name\n",
    "                days = 360, # filter out posts created more than N days ago\n",
    "                remap_output = True, # False for mobile app, True for web\n",
    "                max_cursor = 200) # max number of posts fetched,\n",
    "                                  # cost is 1 unit per 200 posts"
   ]
  },
  {
   "cell_type": "code",
   "execution_count": 6,
   "metadata": {
    "id": "DOeK6xo6Fhq0"
   },
   "outputs": [],
   "source": [
    "# convert json to dataframe\n",
    "df = pd.json_normalize(result.data[\"posts\"])\n",
    "\n",
    "# extract relevant info\n",
    "df = df[['itemInfos.id', 'itemInfos.createTime', 'itemInfos.authorId',\n",
    "         'itemInfos.text', 'itemInfos.video.urls', 'itemInfos.shareCount',\n",
    "         'itemInfos.playCount', 'itemInfos.commentCount']]\n",
    "\n",
    "# rename columns\n",
    "df.columns = ['id', 'createTime', 'authorId', 'text', 'video.urls',\n",
    "              'shareCount', 'playCount', 'commentCount']\n",
    "\n",
    "# format time to date in string format\n",
    "df[\"createTime\"] = [str(datetime.fromtimestamp(int(i)).date())\n",
    "                                                for i in df[\"createTime\"]]\n",
    "\n",
    "# save\n",
    "df_hashtag = df\n",
    "df_hashtag.to_csv('rome__tiktok_hashtag_posts.csv', index=False)"
   ]
  },
  {
   "cell_type": "code",
   "execution_count": 7,
   "metadata": {
    "colab": {
     "base_uri": "https://localhost:8080/",
     "height": 739
    },
    "id": "WKPZM3muGi-o",
    "outputId": "aba2f4d1-1d61-4c05-b3bf-6a5062ea2eca"
   },
   "outputs": [
    {
     "data": {
      "text/html": [
       "<div>\n",
       "<style scoped>\n",
       "    .dataframe tbody tr th:only-of-type {\n",
       "        vertical-align: middle;\n",
       "    }\n",
       "\n",
       "    .dataframe tbody tr th {\n",
       "        vertical-align: top;\n",
       "    }\n",
       "\n",
       "    .dataframe thead th {\n",
       "        text-align: right;\n",
       "    }\n",
       "</style>\n",
       "<table border=\"1\" class=\"dataframe\">\n",
       "  <thead>\n",
       "    <tr style=\"text-align: right;\">\n",
       "      <th></th>\n",
       "      <th>id</th>\n",
       "      <th>createTime</th>\n",
       "      <th>authorId</th>\n",
       "      <th>text</th>\n",
       "      <th>video.urls</th>\n",
       "      <th>shareCount</th>\n",
       "      <th>playCount</th>\n",
       "      <th>commentCount</th>\n",
       "    </tr>\n",
       "  </thead>\n",
       "  <tbody>\n",
       "    <tr>\n",
       "      <th>0</th>\n",
       "      <td>7380487798517697809</td>\n",
       "      <td>2024-06-15</td>\n",
       "      <td>7372729660905751553</td>\n",
       "      <td>Things to do in Rome 🍝✨ #rome #italy #travel #...</td>\n",
       "      <td>[https://v45.tiktokcdn-eu.com/8ffb8f6821650b28...</td>\n",
       "      <td>1033</td>\n",
       "      <td>138499</td>\n",
       "      <td>79</td>\n",
       "    </tr>\n",
       "    <tr>\n",
       "      <th>1</th>\n",
       "      <td>7394176466340089121</td>\n",
       "      <td>2024-07-21</td>\n",
       "      <td>6837200889528206342</td>\n",
       "      <td>When it’s hot outside, underground is always a...</td>\n",
       "      <td>[https://v45.tiktokcdn-eu.com/04b70ce539dbcb21...</td>\n",
       "      <td>4422</td>\n",
       "      <td>483706</td>\n",
       "      <td>88</td>\n",
       "    </tr>\n",
       "    <tr>\n",
       "      <th>2</th>\n",
       "      <td>7415725536007195910</td>\n",
       "      <td>2024-09-18</td>\n",
       "      <td>6790121256747648006</td>\n",
       "      <td>Being a tourist 😂 #rome #fyp #italy #italytrav...</td>\n",
       "      <td>[https://v45.tiktokcdn-eu.com/e481fe08cbf6781b...</td>\n",
       "      <td>144</td>\n",
       "      <td>59773</td>\n",
       "      <td>16</td>\n",
       "    </tr>\n",
       "    <tr>\n",
       "      <th>3</th>\n",
       "      <td>7425195042567884038</td>\n",
       "      <td>2024-10-13</td>\n",
       "      <td>7146068440930386949</td>\n",
       "      <td>Maybe Rome is currently not the best option 🥲 ...</td>\n",
       "      <td>[https://v45.tiktokcdn-eu.com/2971af24341ad5e7...</td>\n",
       "      <td>7961</td>\n",
       "      <td>1028794</td>\n",
       "      <td>143</td>\n",
       "    </tr>\n",
       "    <tr>\n",
       "      <th>4</th>\n",
       "      <td>7358144332630625568</td>\n",
       "      <td>2024-04-15</td>\n",
       "      <td>7148038032389489670</td>\n",
       "      <td>Where to go out in Rome Italy? If you're looki...</td>\n",
       "      <td>[https://v45.tiktokcdn-eu.com/21b05ff3b1f24226...</td>\n",
       "      <td>1980</td>\n",
       "      <td>180946</td>\n",
       "      <td>44</td>\n",
       "    </tr>\n",
       "    <tr>\n",
       "      <th>...</th>\n",
       "      <td>...</td>\n",
       "      <td>...</td>\n",
       "      <td>...</td>\n",
       "      <td>...</td>\n",
       "      <td>...</td>\n",
       "      <td>...</td>\n",
       "      <td>...</td>\n",
       "      <td>...</td>\n",
       "    </tr>\n",
       "    <tr>\n",
       "      <th>123</th>\n",
       "      <td>7441157781836647712</td>\n",
       "      <td>2024-11-25</td>\n",
       "      <td>7280469526700540961</td>\n",
       "      <td>ROME - Italy 📍🇮🇹.                      #italy ...</td>\n",
       "      <td>[https://v16m.tiktokcdn-eu.com/5159d822e46f3cd...</td>\n",
       "      <td>0</td>\n",
       "      <td>796</td>\n",
       "      <td>2</td>\n",
       "    </tr>\n",
       "    <tr>\n",
       "      <th>124</th>\n",
       "      <td>7441276169166572833</td>\n",
       "      <td>2024-11-25</td>\n",
       "      <td>6778524591850701829</td>\n",
       "      <td>pov: you went to the famous mirror in rome #ro...</td>\n",
       "      <td>[https://v16m.tiktokcdn-eu.com/8611cbf7ea068b6...</td>\n",
       "      <td>0</td>\n",
       "      <td>341</td>\n",
       "      <td>0</td>\n",
       "    </tr>\n",
       "    <tr>\n",
       "      <th>125</th>\n",
       "      <td>7360789966743555333</td>\n",
       "      <td>2024-04-22</td>\n",
       "      <td>6728727889942922246</td>\n",
       "      <td>living in rome 💔 #rome #roma #romeitaly #italy...</td>\n",
       "      <td>[https://v16m.tiktokcdn-eu.com/373bcf0899d6d98...</td>\n",
       "      <td>10</td>\n",
       "      <td>2975</td>\n",
       "      <td>0</td>\n",
       "    </tr>\n",
       "    <tr>\n",
       "      <th>126</th>\n",
       "      <td>7378485905440476449</td>\n",
       "      <td>2024-06-09</td>\n",
       "      <td>7211418901115094021</td>\n",
       "      <td>When in Rome… ❤️ #rome#visitrome#colosseo#roma...</td>\n",
       "      <td>[https://v16m.tiktokcdn-eu.com/827f08e48034ee3...</td>\n",
       "      <td>4</td>\n",
       "      <td>2470</td>\n",
       "      <td>5</td>\n",
       "    </tr>\n",
       "    <tr>\n",
       "      <th>127</th>\n",
       "      <td>7438364642252016952</td>\n",
       "      <td>2024-11-18</td>\n",
       "      <td>23155521</td>\n",
       "      <td>🥲🙃 #roma #construction #rometoday #romahoy #ro...</td>\n",
       "      <td>[https://v16m.tiktokcdn-eu.com/842f0d3826451e0...</td>\n",
       "      <td>12</td>\n",
       "      <td>2970</td>\n",
       "      <td>2</td>\n",
       "    </tr>\n",
       "  </tbody>\n",
       "</table>\n",
       "<p>128 rows × 8 columns</p>\n",
       "</div>"
      ],
      "text/plain": [
       "                      id  createTime             authorId  \\\n",
       "0    7380487798517697809  2024-06-15  7372729660905751553   \n",
       "1    7394176466340089121  2024-07-21  6837200889528206342   \n",
       "2    7415725536007195910  2024-09-18  6790121256747648006   \n",
       "3    7425195042567884038  2024-10-13  7146068440930386949   \n",
       "4    7358144332630625568  2024-04-15  7148038032389489670   \n",
       "..                   ...         ...                  ...   \n",
       "123  7441157781836647712  2024-11-25  7280469526700540961   \n",
       "124  7441276169166572833  2024-11-25  6778524591850701829   \n",
       "125  7360789966743555333  2024-04-22  6728727889942922246   \n",
       "126  7378485905440476449  2024-06-09  7211418901115094021   \n",
       "127  7438364642252016952  2024-11-18             23155521   \n",
       "\n",
       "                                                  text  \\\n",
       "0    Things to do in Rome 🍝✨ #rome #italy #travel #...   \n",
       "1    When it’s hot outside, underground is always a...   \n",
       "2    Being a tourist 😂 #rome #fyp #italy #italytrav...   \n",
       "3    Maybe Rome is currently not the best option 🥲 ...   \n",
       "4    Where to go out in Rome Italy? If you're looki...   \n",
       "..                                                 ...   \n",
       "123  ROME - Italy 📍🇮🇹.                      #italy ...   \n",
       "124  pov: you went to the famous mirror in rome #ro...   \n",
       "125  living in rome 💔 #rome #roma #romeitaly #italy...   \n",
       "126  When in Rome… ❤️ #rome#visitrome#colosseo#roma...   \n",
       "127  🥲🙃 #roma #construction #rometoday #romahoy #ro...   \n",
       "\n",
       "                                            video.urls  shareCount  playCount  \\\n",
       "0    [https://v45.tiktokcdn-eu.com/8ffb8f6821650b28...        1033     138499   \n",
       "1    [https://v45.tiktokcdn-eu.com/04b70ce539dbcb21...        4422     483706   \n",
       "2    [https://v45.tiktokcdn-eu.com/e481fe08cbf6781b...         144      59773   \n",
       "3    [https://v45.tiktokcdn-eu.com/2971af24341ad5e7...        7961    1028794   \n",
       "4    [https://v45.tiktokcdn-eu.com/21b05ff3b1f24226...        1980     180946   \n",
       "..                                                 ...         ...        ...   \n",
       "123  [https://v16m.tiktokcdn-eu.com/5159d822e46f3cd...           0        796   \n",
       "124  [https://v16m.tiktokcdn-eu.com/8611cbf7ea068b6...           0        341   \n",
       "125  [https://v16m.tiktokcdn-eu.com/373bcf0899d6d98...          10       2975   \n",
       "126  [https://v16m.tiktokcdn-eu.com/827f08e48034ee3...           4       2470   \n",
       "127  [https://v16m.tiktokcdn-eu.com/842f0d3826451e0...          12       2970   \n",
       "\n",
       "     commentCount  \n",
       "0              79  \n",
       "1              88  \n",
       "2              16  \n",
       "3             143  \n",
       "4              44  \n",
       "..            ...  \n",
       "123             2  \n",
       "124             0  \n",
       "125             0  \n",
       "126             5  \n",
       "127             2  \n",
       "\n",
       "[128 rows x 8 columns]"
      ]
     },
     "metadata": {},
     "output_type": "display_data"
    }
   ],
   "source": [
    "display(df_hashtag)"
   ]
  },
  {
   "cell_type": "markdown",
   "metadata": {
    "id": "S5JAFI_JOAa8"
   },
   "source": [
    "Keyword search (100 posts at the cost of 5 units) - limited to 180 days!"
   ]
  },
  {
   "cell_type": "code",
   "execution_count": 8,
   "metadata": {
    "colab": {
     "base_uri": "https://localhost:8080/",
     "height": 49,
     "referenced_widgets": [
      "9f261b4dc04540ddaf52f32f0a318a1f",
      "133c148510e3467da02d4a81cdad3a60",
      "525ba96bbc57447997556c85c604be83",
      "b66c7e5be496416fa9e6c21219fb0d89",
      "903fd132b37d413e81fe701eee7b9821",
      "4d6296c18f854db4a6ea2dfe54cdb073",
      "08f905fc8bd248d7a1eb4e5707cf1fd2",
      "af492ed6152e4a98b61236198cc93e7b",
      "1a39ba49710948b288e25a3d764db8d0",
      "b7f2646221e94ecaba1c9eafc165991b",
      "f86894eaa939484881edfdd2a6258812"
     ]
    },
    "id": "rzUDyJqXOBxR",
    "outputId": "0d95be47-d8f0-4cf2-d03c-2b8adea322a5"
   },
   "outputs": [
    {
     "name": "stderr",
     "output_type": "stream",
     "text": [
      "100%|██████████| 5/5 [00:40<00:00,  8.04s/it]\n"
     ]
    }
   ],
   "source": [
    "# read posts related to a keyword\n",
    "keyword = \"visit rome\" # keyword name\n",
    "period = 180 # must be one of 0, 1, 7, 30, 90, 180 days\n",
    "             # returns posts more recent than the given period\n",
    "country = \"us\" # leave blank \"\" for any country\n",
    "max_cursor = 100 # max number of posts fetched, cost is 1 unit per 20 posts\n",
    "\n",
    "# loop through keyword_search to control for max_cursor\n",
    "posts = list()\n",
    "cursor = None\n",
    "for i in tqdm(range(int(max_cursor/20))):\n",
    "    result = client.tiktok.keyword_search(keyword = keyword,\n",
    "                                          period = period,\n",
    "                                          country = country,\n",
    "                                          cursor = cursor)\n",
    "    posts.extend(result.data[\"data\"])\n",
    "    cursor = result.data.get(\"nextCursor\")\n",
    "\n",
    "    # If there is no next cursor, we've fetched all the available posts\n",
    "    if cursor is None:\n",
    "        break"
   ]
  },
  {
   "cell_type": "code",
   "execution_count": null,
   "metadata": {
    "id": "OTS03uQHEHy_"
   },
   "outputs": [],
   "source": [
    "# convert json to dataframe\n",
    "df = pd.json_normalize(posts)\n",
    "\n",
    "# extract relevant info\n",
    "df = df[['aweme_info.aweme_id', 'aweme_info.create_time',\n",
    "         'aweme_info.author.uid', 'aweme_info.desc',\n",
    "         'aweme_info.video.play_addr.url_list',\n",
    "         'aweme_info.statistics.share_count',\n",
    "         'aweme_info.statistics.play_count',\n",
    "         'aweme_info.statistics.comment_count']]\n",
    "\n",
    "# rename columns\n",
    "df.columns = ['id', 'createTime', 'authorId', 'text', 'video.urls',\n",
    "              'shareCount', 'playCount', 'commentCount']\n",
    "\n",
    "# format time to date in string format\n",
    "df[\"createTime\"] = [str(datetime.fromtimestamp(int(i)).date())\n",
    "                                                for i in df[\"createTime\"]]\n",
    "\n",
    "# save\n",
    "df_keyword = df\n",
    "df_keyword.to_csv('rome_tiktok_keyword_posts.csv', index=False)"
   ]
  },
  {
   "cell_type": "code",
   "execution_count": null,
   "metadata": {
    "colab": {
     "base_uri": "https://localhost:8080/",
     "height": 1000
    },
    "id": "qstD2toKCd_7",
    "outputId": "92c544bd-7c10-4792-b0fa-1f0f20e595bc"
   },
   "outputs": [],
   "source": [
    "display(df_keyword)"
   ]
  },
  {
   "cell_type": "markdown",
   "metadata": {
    "id": "DkuiCnjGBuHf"
   },
   "source": [
    "# Read comments from TikTok"
   ]
  },
  {
   "cell_type": "markdown",
   "metadata": {
    "id": "u6hgnv7FXijQ"
   },
   "source": [
    "Comments search"
   ]
  },
  {
   "cell_type": "code",
   "execution_count": null,
   "metadata": {
    "colab": {
     "base_uri": "https://localhost:8080/"
    },
    "id": "FVaM3UHHRZ6M",
    "outputId": "0c2ec208-af99-4414-c706-1285cf81f57f"
   },
   "outputs": [],
   "source": [
    "df_hashtag = pd.read_csv('rome_tiktok_hashtag_posts.csv')\n",
    "df_keyword = pd.read_csv('rome_tiktok_keyword_posts.csv')\n",
    "\n",
    "# order by comment count\n",
    "df_hashtag = df_hashtag.sort_values(by=['commentCount'], ascending=False).reset_index(drop=True)\n",
    "df_keyword = df_keyword.sort_values(by=['commentCount'], ascending=False).reset_index(drop=True)\n",
    "# delete posts with less than 30 comments\n",
    "df_hashtag = df_hashtag[df_hashtag['commentCount']>=30]\n",
    "df_keyword = df_keyword[df_keyword['commentCount']>=30]\n",
    "# state how many\n",
    "print(f'{len(df_hashtag)} posts for hastags with more than 30 comments')\n",
    "print(f'{len(df_keyword)} posts for keywords with more than 30 comments')"
   ]
  },
  {
   "cell_type": "code",
   "execution_count": null,
   "metadata": {
    "colab": {
     "base_uri": "https://localhost:8080/",
     "height": 860
    },
    "id": "EJYDFZ-kcAwr",
    "outputId": "a82251df-f562-42a1-8ab8-c794b95cb148"
   },
   "outputs": [],
   "source": [
    "display(df_hashtag)"
   ]
  },
  {
   "cell_type": "code",
   "execution_count": null,
   "metadata": {
    "id": "1ALIWawY_9Ei"
   },
   "outputs": [],
   "source": [
    "# set search criteria\n",
    "comments_to_retrieve = 60 # 30 is a safe number = 1 credit!\n",
    "\n",
    "comments = list()\n",
    "for i in range(2): # change the range to get more!\n",
    "    aweme_id = df_hashtag[\"id\"][i]\n",
    "    cursor = None\n",
    "    for _ in range(int(comments_to_retrieve/30)):\n",
    "        result = client.tiktok.post_comments(\n",
    "            aweme_id = aweme_id,\n",
    "            cursor = cursor\n",
    "        )\n",
    "        comments.extend(result.data[\"comments\"])\n",
    "        cursor = result.data.get(\"nextCursor\")\n",
    "        if cursor is None:\n",
    "            break"
   ]
  },
  {
   "cell_type": "code",
   "execution_count": null,
   "metadata": {
    "id": "Led0aSKzVX6q"
   },
   "outputs": [],
   "source": [
    "# convert json to dataframe\n",
    "df = pd.json_normalize(comments)\n",
    "\n",
    "# extract relevant info\n",
    "df = df[['aweme_id', 'cid', 'create_time', 'text', 'reply_comment_total']]\n",
    "\n",
    "# format time to date in string format\n",
    "df[\"create_time\"] = [str(datetime.fromtimestamp(int(i)).date())\n",
    "                                                for i in df[\"create_time\"]]\n",
    "\n",
    "# order by number of replies\n",
    "df = df.sort_values(by=['reply_comment_total'], ascending=False).reset_index(drop=True)\n",
    "\n",
    "# save\n",
    "df_comments = df\n",
    "df_comments.to_csv('rome_tiktok_hashtag_comments.csv', index=False)"
   ]
  },
  {
   "cell_type": "code",
   "execution_count": null,
   "metadata": {
    "colab": {
     "base_uri": "https://localhost:8080/",
     "height": 999
    },
    "id": "YK2Q2nUcUts8",
    "outputId": "dd5d000b-a1ca-426d-ca76-9c5f802dd222"
   },
   "outputs": [],
   "source": [
    "display(df_comments)"
   ]
  },
  {
   "cell_type": "markdown",
   "metadata": {
    "id": "F9rcrHsDYE6W"
   },
   "source": [
    "Replies search"
   ]
  },
  {
   "cell_type": "code",
   "execution_count": null,
   "metadata": {
    "id": "9xeZXnwaYs3x"
   },
   "outputs": [],
   "source": [
    "# set search criteria\n",
    "replies_to_retrieve = 30 # 30 is a safe number = 1 credit!\n",
    "\n",
    "replies = list()\n",
    "for i in range(4): # change the range to get more!\n",
    "    aweme_id = df_comments[\"aweme_id\"][i]\n",
    "    cid = df_comments[\"cid\"][i]\n",
    "    cursor = None\n",
    "    for _ in range(int(replies_to_retrieve/30)):\n",
    "        result = client.tiktok.post_comment_replies(\n",
    "            aweme_id = aweme_id,\n",
    "            comment_id = cid,\n",
    "            cursor = cursor\n",
    "        )\n",
    "        replies.extend(result.data[\"comments\"])\n",
    "        cursor = result.data.get(\"nextCursor\")\n",
    "        if cursor is None:\n",
    "            break"
   ]
  },
  {
   "cell_type": "code",
   "execution_count": null,
   "metadata": {
    "id": "KvV-RSpNZWGG"
   },
   "outputs": [],
   "source": [
    "# convert json to dataframe\n",
    "df = pd.json_normalize(replies)\n",
    "\n",
    "# extract relevant info\n",
    "df = df[['aweme_id', 'cid', 'reply_id', 'create_time', 'text']]\n",
    "\n",
    "# format time to date in string format\n",
    "df[\"create_time\"] = [str(datetime.fromtimestamp(int(i)).date())\n",
    "                                                for i in df[\"create_time\"]]\n",
    "\n",
    "# save\n",
    "df_replies = df\n",
    "df_replies.to_csv('rome_tiktok_hashtag_replies.csv', index=False)"
   ]
  },
  {
   "cell_type": "code",
   "execution_count": null,
   "metadata": {
    "colab": {
     "base_uri": "https://localhost:8080/",
     "height": 808
    },
    "id": "meIST66TZd7X",
    "outputId": "f4d3cc47-17fc-4790-f0e2-75f67d119458"
   },
   "outputs": [],
   "source": [
    "display(df_replies)"
   ]
  }
 ],
 "metadata": {
  "colab": {
   "provenance": []
  },
  "kernelspec": {
   "display_name": "Python 3",
   "language": "python",
   "name": "python3"
  },
  "language_info": {
   "codemirror_mode": {
    "name": "ipython",
    "version": 3
   },
   "file_extension": ".py",
   "mimetype": "text/x-python",
   "name": "python",
   "nbconvert_exporter": "python",
   "pygments_lexer": "ipython3",
   "version": "3.11.8"
  },
  "widgets": {
   "application/vnd.jupyter.widget-state+json": {
    "08f905fc8bd248d7a1eb4e5707cf1fd2": {
     "model_module": "@jupyter-widgets/controls",
     "model_module_version": "1.5.0",
     "model_name": "DescriptionStyleModel",
     "state": {
      "_model_module": "@jupyter-widgets/controls",
      "_model_module_version": "1.5.0",
      "_model_name": "DescriptionStyleModel",
      "_view_count": null,
      "_view_module": "@jupyter-widgets/base",
      "_view_module_version": "1.2.0",
      "_view_name": "StyleView",
      "description_width": ""
     }
    },
    "133c148510e3467da02d4a81cdad3a60": {
     "model_module": "@jupyter-widgets/controls",
     "model_module_version": "1.5.0",
     "model_name": "HTMLModel",
     "state": {
      "_dom_classes": [],
      "_model_module": "@jupyter-widgets/controls",
      "_model_module_version": "1.5.0",
      "_model_name": "HTMLModel",
      "_view_count": null,
      "_view_module": "@jupyter-widgets/controls",
      "_view_module_version": "1.5.0",
      "_view_name": "HTMLView",
      "description": "",
      "description_tooltip": null,
      "layout": "IPY_MODEL_4d6296c18f854db4a6ea2dfe54cdb073",
      "placeholder": "​",
      "style": "IPY_MODEL_08f905fc8bd248d7a1eb4e5707cf1fd2",
      "value": "100%"
     }
    },
    "1a39ba49710948b288e25a3d764db8d0": {
     "model_module": "@jupyter-widgets/controls",
     "model_module_version": "1.5.0",
     "model_name": "ProgressStyleModel",
     "state": {
      "_model_module": "@jupyter-widgets/controls",
      "_model_module_version": "1.5.0",
      "_model_name": "ProgressStyleModel",
      "_view_count": null,
      "_view_module": "@jupyter-widgets/base",
      "_view_module_version": "1.2.0",
      "_view_name": "StyleView",
      "bar_color": null,
      "description_width": ""
     }
    },
    "4d6296c18f854db4a6ea2dfe54cdb073": {
     "model_module": "@jupyter-widgets/base",
     "model_module_version": "1.2.0",
     "model_name": "LayoutModel",
     "state": {
      "_model_module": "@jupyter-widgets/base",
      "_model_module_version": "1.2.0",
      "_model_name": "LayoutModel",
      "_view_count": null,
      "_view_module": "@jupyter-widgets/base",
      "_view_module_version": "1.2.0",
      "_view_name": "LayoutView",
      "align_content": null,
      "align_items": null,
      "align_self": null,
      "border": null,
      "bottom": null,
      "display": null,
      "flex": null,
      "flex_flow": null,
      "grid_area": null,
      "grid_auto_columns": null,
      "grid_auto_flow": null,
      "grid_auto_rows": null,
      "grid_column": null,
      "grid_gap": null,
      "grid_row": null,
      "grid_template_areas": null,
      "grid_template_columns": null,
      "grid_template_rows": null,
      "height": null,
      "justify_content": null,
      "justify_items": null,
      "left": null,
      "margin": null,
      "max_height": null,
      "max_width": null,
      "min_height": null,
      "min_width": null,
      "object_fit": null,
      "object_position": null,
      "order": null,
      "overflow": null,
      "overflow_x": null,
      "overflow_y": null,
      "padding": null,
      "right": null,
      "top": null,
      "visibility": null,
      "width": null
     }
    },
    "525ba96bbc57447997556c85c604be83": {
     "model_module": "@jupyter-widgets/controls",
     "model_module_version": "1.5.0",
     "model_name": "FloatProgressModel",
     "state": {
      "_dom_classes": [],
      "_model_module": "@jupyter-widgets/controls",
      "_model_module_version": "1.5.0",
      "_model_name": "FloatProgressModel",
      "_view_count": null,
      "_view_module": "@jupyter-widgets/controls",
      "_view_module_version": "1.5.0",
      "_view_name": "ProgressView",
      "bar_style": "success",
      "description": "",
      "description_tooltip": null,
      "layout": "IPY_MODEL_af492ed6152e4a98b61236198cc93e7b",
      "max": 5,
      "min": 0,
      "orientation": "horizontal",
      "style": "IPY_MODEL_1a39ba49710948b288e25a3d764db8d0",
      "value": 5
     }
    },
    "903fd132b37d413e81fe701eee7b9821": {
     "model_module": "@jupyter-widgets/base",
     "model_module_version": "1.2.0",
     "model_name": "LayoutModel",
     "state": {
      "_model_module": "@jupyter-widgets/base",
      "_model_module_version": "1.2.0",
      "_model_name": "LayoutModel",
      "_view_count": null,
      "_view_module": "@jupyter-widgets/base",
      "_view_module_version": "1.2.0",
      "_view_name": "LayoutView",
      "align_content": null,
      "align_items": null,
      "align_self": null,
      "border": null,
      "bottom": null,
      "display": null,
      "flex": null,
      "flex_flow": null,
      "grid_area": null,
      "grid_auto_columns": null,
      "grid_auto_flow": null,
      "grid_auto_rows": null,
      "grid_column": null,
      "grid_gap": null,
      "grid_row": null,
      "grid_template_areas": null,
      "grid_template_columns": null,
      "grid_template_rows": null,
      "height": null,
      "justify_content": null,
      "justify_items": null,
      "left": null,
      "margin": null,
      "max_height": null,
      "max_width": null,
      "min_height": null,
      "min_width": null,
      "object_fit": null,
      "object_position": null,
      "order": null,
      "overflow": null,
      "overflow_x": null,
      "overflow_y": null,
      "padding": null,
      "right": null,
      "top": null,
      "visibility": null,
      "width": null
     }
    },
    "9f261b4dc04540ddaf52f32f0a318a1f": {
     "model_module": "@jupyter-widgets/controls",
     "model_module_version": "1.5.0",
     "model_name": "HBoxModel",
     "state": {
      "_dom_classes": [],
      "_model_module": "@jupyter-widgets/controls",
      "_model_module_version": "1.5.0",
      "_model_name": "HBoxModel",
      "_view_count": null,
      "_view_module": "@jupyter-widgets/controls",
      "_view_module_version": "1.5.0",
      "_view_name": "HBoxView",
      "box_style": "",
      "children": [
       "IPY_MODEL_133c148510e3467da02d4a81cdad3a60",
       "IPY_MODEL_525ba96bbc57447997556c85c604be83",
       "IPY_MODEL_b66c7e5be496416fa9e6c21219fb0d89"
      ],
      "layout": "IPY_MODEL_903fd132b37d413e81fe701eee7b9821"
     }
    },
    "af492ed6152e4a98b61236198cc93e7b": {
     "model_module": "@jupyter-widgets/base",
     "model_module_version": "1.2.0",
     "model_name": "LayoutModel",
     "state": {
      "_model_module": "@jupyter-widgets/base",
      "_model_module_version": "1.2.0",
      "_model_name": "LayoutModel",
      "_view_count": null,
      "_view_module": "@jupyter-widgets/base",
      "_view_module_version": "1.2.0",
      "_view_name": "LayoutView",
      "align_content": null,
      "align_items": null,
      "align_self": null,
      "border": null,
      "bottom": null,
      "display": null,
      "flex": null,
      "flex_flow": null,
      "grid_area": null,
      "grid_auto_columns": null,
      "grid_auto_flow": null,
      "grid_auto_rows": null,
      "grid_column": null,
      "grid_gap": null,
      "grid_row": null,
      "grid_template_areas": null,
      "grid_template_columns": null,
      "grid_template_rows": null,
      "height": null,
      "justify_content": null,
      "justify_items": null,
      "left": null,
      "margin": null,
      "max_height": null,
      "max_width": null,
      "min_height": null,
      "min_width": null,
      "object_fit": null,
      "object_position": null,
      "order": null,
      "overflow": null,
      "overflow_x": null,
      "overflow_y": null,
      "padding": null,
      "right": null,
      "top": null,
      "visibility": null,
      "width": null
     }
    },
    "b66c7e5be496416fa9e6c21219fb0d89": {
     "model_module": "@jupyter-widgets/controls",
     "model_module_version": "1.5.0",
     "model_name": "HTMLModel",
     "state": {
      "_dom_classes": [],
      "_model_module": "@jupyter-widgets/controls",
      "_model_module_version": "1.5.0",
      "_model_name": "HTMLModel",
      "_view_count": null,
      "_view_module": "@jupyter-widgets/controls",
      "_view_module_version": "1.5.0",
      "_view_name": "HTMLView",
      "description": "",
      "description_tooltip": null,
      "layout": "IPY_MODEL_b7f2646221e94ecaba1c9eafc165991b",
      "placeholder": "​",
      "style": "IPY_MODEL_f86894eaa939484881edfdd2a6258812",
      "value": " 5/5 [00:46&lt;00:00,  9.07s/it]"
     }
    },
    "b7f2646221e94ecaba1c9eafc165991b": {
     "model_module": "@jupyter-widgets/base",
     "model_module_version": "1.2.0",
     "model_name": "LayoutModel",
     "state": {
      "_model_module": "@jupyter-widgets/base",
      "_model_module_version": "1.2.0",
      "_model_name": "LayoutModel",
      "_view_count": null,
      "_view_module": "@jupyter-widgets/base",
      "_view_module_version": "1.2.0",
      "_view_name": "LayoutView",
      "align_content": null,
      "align_items": null,
      "align_self": null,
      "border": null,
      "bottom": null,
      "display": null,
      "flex": null,
      "flex_flow": null,
      "grid_area": null,
      "grid_auto_columns": null,
      "grid_auto_flow": null,
      "grid_auto_rows": null,
      "grid_column": null,
      "grid_gap": null,
      "grid_row": null,
      "grid_template_areas": null,
      "grid_template_columns": null,
      "grid_template_rows": null,
      "height": null,
      "justify_content": null,
      "justify_items": null,
      "left": null,
      "margin": null,
      "max_height": null,
      "max_width": null,
      "min_height": null,
      "min_width": null,
      "object_fit": null,
      "object_position": null,
      "order": null,
      "overflow": null,
      "overflow_x": null,
      "overflow_y": null,
      "padding": null,
      "right": null,
      "top": null,
      "visibility": null,
      "width": null
     }
    },
    "f86894eaa939484881edfdd2a6258812": {
     "model_module": "@jupyter-widgets/controls",
     "model_module_version": "1.5.0",
     "model_name": "DescriptionStyleModel",
     "state": {
      "_model_module": "@jupyter-widgets/controls",
      "_model_module_version": "1.5.0",
      "_model_name": "DescriptionStyleModel",
      "_view_count": null,
      "_view_module": "@jupyter-widgets/base",
      "_view_module_version": "1.2.0",
      "_view_name": "StyleView",
      "description_width": ""
     }
    }
   }
  }
 },
 "nbformat": 4,
 "nbformat_minor": 0
}
